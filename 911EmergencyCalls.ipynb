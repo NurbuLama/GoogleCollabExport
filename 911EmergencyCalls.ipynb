{
  "nbformat": 4,
  "nbformat_minor": 0,
  "metadata": {
    "colab": {
      "name": "911EmergencyCalls.ipynb",
      "provenance": [],
      "collapsed_sections": [],
      "include_colab_link": true
    },
    "kernelspec": {
      "name": "python3",
      "display_name": "Python 3"
    }
  },
  "cells": [
    {
      "cell_type": "markdown",
      "metadata": {
        "id": "view-in-github",
        "colab_type": "text"
      },
      "source": [
        "<a href=\"https://colab.research.google.com/github/NurbuLama/GoogleCollabExport/blob/master/911EmergencyCalls.ipynb\" target=\"_parent\"><img src=\"https://colab.research.google.com/assets/colab-badge.svg\" alt=\"Open In Colab\"/></a>"
      ]
    },
    {
      "cell_type": "markdown",
      "metadata": {
        "id": "P5dUtcQvvbBo"
      },
      "source": [
        "#Case Study\r\n",
        "\r\n",
        "Congrats! You have been contracted to conduct a brief analysis of a dataset containing ememrgency calls in order to determine the allocation of funds to you local authorities.  This analysis will play a role in deciding changes to the emergency response department.\r\n",
        "\r\n",
        "The data is based in 911 emergency calls and your job is to determine a variety of issues regarding said calls.\r\n",
        "\r\n",
        "1. Using Pandas and Numpy, analyse the data and come up with 5 questions that you would like to answer about the data.\r\n",
        "\r\n",
        "2. the instructor will provide a rnage of questions to answer and you should use your knowledge to complte them as a team."
      ]
    },
    {
      "cell_type": "code",
      "metadata": {
        "id": "yvvzIGpsO6OH"
      },
      "source": [
        "# Jose Canalizo\r\n",
        "# Mohsin Masrur\r\n",
        "# Nurbu Lama\r\n",
        "# Tashi T. Gurung"
      ],
      "execution_count": null,
      "outputs": []
    },
    {
      "cell_type": "code",
      "metadata": {
        "colab": {
          "base_uri": "https://localhost:8080/"
        },
        "id": "vGQt7UAtJrx8",
        "outputId": "be265bbd-3967-4859-e4ef-25e5ff35cdc4"
      },
      "source": [
        "# 1. How many unique titles are there?\r\n",
        "df['title'].nunique()"
      ],
      "execution_count": null,
      "outputs": [
        {
          "output_type": "execute_result",
          "data": {
            "text/plain": [
              "110"
            ]
          },
          "metadata": {
            "tags": []
          },
          "execution_count": 152
        }
      ]
    },
    {
      "cell_type": "markdown",
      "metadata": {
        "id": "nrp09NGTRsJq"
      },
      "source": [
        "There are 110 unique titles"
      ]
    },
    {
      "cell_type": "code",
      "metadata": {
        "colab": {
          "base_uri": "https://localhost:8080/"
        },
        "id": "Qkc-7h8MJAw7",
        "outputId": "0faf20f3-f2ce-4cea-dd4f-b78b80a07eb3"
      },
      "source": [
        "#2. What are the top 5 titles by frequency?\r\n",
        "df['title'].value_counts(normalize = True).head(5) * 100"
      ],
      "execution_count": null,
      "outputs": [
        {
          "output_type": "execute_result",
          "data": {
            "text/plain": [
              "Traffic: VEHICLE ACCIDENT -    23.183774\n",
              "Traffic: DISABLED VEHICLE -     7.741326\n",
              "Fire: FIRE ALARM                5.524062\n",
              "EMS: RESPIRATORY EMERGENCY      5.138102\n",
              "EMS: CARDIAC EMERGENCY          5.037591\n",
              "Name: title, dtype: float64"
            ]
          },
          "metadata": {
            "tags": []
          },
          "execution_count": 199
        }
      ]
    },
    {
      "cell_type": "markdown",
      "metadata": {
        "id": "9yGO6TkiRvdz"
      },
      "source": [
        "The top five titles include <br>\r\n",
        "1. Traffic: Vechile Accident\r\n",
        "2. Traffic: Disabled Vehicle\r\n",
        "3. Fire: Fire Alarm \r\n",
        "4. EMS: Respiratory Emergency"
      ]
    },
    {
      "cell_type": "code",
      "metadata": {
        "colab": {
          "base_uri": "https://localhost:8080/"
        },
        "id": "-Y73FOA0KX1T",
        "outputId": "058f82a3-33cd-4b87-b8ec-ad73eaadc559"
      },
      "source": [
        "# 3. How many calls were \"vechile\" related?\r\n",
        "boolean_mask = df['title'].str.lower().str.contains('vehicle')\r\n",
        "df[boolean_mask]['title'].unique()"
      ],
      "execution_count": null,
      "outputs": [
        {
          "output_type": "execute_result",
          "data": {
            "text/plain": [
              "array(['Traffic: VEHICLE ACCIDENT -', 'EMS: VEHICLE ACCIDENT',\n",
              "       'Traffic: DISABLED VEHICLE -', 'Fire: VEHICLE ACCIDENT',\n",
              "       'Traffic: VEHICLE LEAKING FUEL -', 'Fire: VEHICLE FIRE',\n",
              "       'Traffic: VEHICLE FIRE -', 'Fire: VEHICLE LEAKING FUEL',\n",
              "       'EMS: VEHICLE FIRE', 'EMS: DISABLED VEHICLE'], dtype=object)"
            ]
          },
          "metadata": {
            "tags": []
          },
          "execution_count": 203
        }
      ]
    },
    {
      "cell_type": "code",
      "metadata": {
        "colab": {
          "base_uri": "https://localhost:8080/"
        },
        "id": "9L4Wq339K41w",
        "outputId": "258a8ad3-af0e-4036-8dd3-cbc48024ce2b"
      },
      "source": [
        "round(df[boolean_mask]['title'].count()/len(df) * 100,2)"
      ],
      "execution_count": null,
      "outputs": [
        {
          "output_type": "execute_result",
          "data": {
            "text/plain": [
              "37.78"
            ]
          },
          "metadata": {
            "tags": []
          },
          "execution_count": 166
        }
      ]
    },
    {
      "cell_type": "code",
      "metadata": {
        "colab": {
          "base_uri": "https://localhost:8080/",
          "height": 315
        },
        "id": "LFU6PoAyco3x",
        "outputId": "0928de4b-05fc-4930-921f-96d2a57e60a8"
      },
      "source": [
        "df = pd.read_csv('/content/drive/MyDrive/CUNY Research Data Analytics 1A/data/911.csv', index_col = 'timeStamp', parse_dates = True)\r\n",
        "df.head()"
      ],
      "execution_count": null,
      "outputs": [
        {
          "output_type": "execute_result",
          "data": {
            "text/html": [
              "<div>\n",
              "<style scoped>\n",
              "    .dataframe tbody tr th:only-of-type {\n",
              "        vertical-align: middle;\n",
              "    }\n",
              "\n",
              "    .dataframe tbody tr th {\n",
              "        vertical-align: top;\n",
              "    }\n",
              "\n",
              "    .dataframe thead th {\n",
              "        text-align: right;\n",
              "    }\n",
              "</style>\n",
              "<table border=\"1\" class=\"dataframe\">\n",
              "  <thead>\n",
              "    <tr style=\"text-align: right;\">\n",
              "      <th></th>\n",
              "      <th>lat</th>\n",
              "      <th>lng</th>\n",
              "      <th>desc</th>\n",
              "      <th>zip</th>\n",
              "      <th>title</th>\n",
              "      <th>twp</th>\n",
              "      <th>addr</th>\n",
              "      <th>e</th>\n",
              "    </tr>\n",
              "    <tr>\n",
              "      <th>timeStamp</th>\n",
              "      <th></th>\n",
              "      <th></th>\n",
              "      <th></th>\n",
              "      <th></th>\n",
              "      <th></th>\n",
              "      <th></th>\n",
              "      <th></th>\n",
              "      <th></th>\n",
              "    </tr>\n",
              "  </thead>\n",
              "  <tbody>\n",
              "    <tr>\n",
              "      <th>2015-12-10 17:40:00</th>\n",
              "      <td>40.297876</td>\n",
              "      <td>-75.581294</td>\n",
              "      <td>REINDEER CT &amp; DEAD END;  NEW HANOVER; Station ...</td>\n",
              "      <td>19525.0</td>\n",
              "      <td>EMS: BACK PAINS/INJURY</td>\n",
              "      <td>NEW HANOVER</td>\n",
              "      <td>REINDEER CT &amp; DEAD END</td>\n",
              "      <td>1</td>\n",
              "    </tr>\n",
              "    <tr>\n",
              "      <th>2015-12-10 17:40:00</th>\n",
              "      <td>40.258061</td>\n",
              "      <td>-75.264680</td>\n",
              "      <td>BRIAR PATH &amp; WHITEMARSH LN;  HATFIELD TOWNSHIP...</td>\n",
              "      <td>19446.0</td>\n",
              "      <td>EMS: DIABETIC EMERGENCY</td>\n",
              "      <td>HATFIELD TOWNSHIP</td>\n",
              "      <td>BRIAR PATH &amp; WHITEMARSH LN</td>\n",
              "      <td>1</td>\n",
              "    </tr>\n",
              "    <tr>\n",
              "      <th>2015-12-10 17:40:00</th>\n",
              "      <td>40.121182</td>\n",
              "      <td>-75.351975</td>\n",
              "      <td>HAWS AVE; NORRISTOWN; 2015-12-10 @ 14:39:21-St...</td>\n",
              "      <td>19401.0</td>\n",
              "      <td>Fire: GAS-ODOR/LEAK</td>\n",
              "      <td>NORRISTOWN</td>\n",
              "      <td>HAWS AVE</td>\n",
              "      <td>1</td>\n",
              "    </tr>\n",
              "    <tr>\n",
              "      <th>2015-12-10 17:40:01</th>\n",
              "      <td>40.116153</td>\n",
              "      <td>-75.343513</td>\n",
              "      <td>AIRY ST &amp; SWEDE ST;  NORRISTOWN; Station 308A;...</td>\n",
              "      <td>19401.0</td>\n",
              "      <td>EMS: CARDIAC EMERGENCY</td>\n",
              "      <td>NORRISTOWN</td>\n",
              "      <td>AIRY ST &amp; SWEDE ST</td>\n",
              "      <td>1</td>\n",
              "    </tr>\n",
              "    <tr>\n",
              "      <th>2015-12-10 17:40:01</th>\n",
              "      <td>40.251492</td>\n",
              "      <td>-75.603350</td>\n",
              "      <td>CHERRYWOOD CT &amp; DEAD END;  LOWER POTTSGROVE; S...</td>\n",
              "      <td>NaN</td>\n",
              "      <td>EMS: DIZZINESS</td>\n",
              "      <td>LOWER POTTSGROVE</td>\n",
              "      <td>CHERRYWOOD CT &amp; DEAD END</td>\n",
              "      <td>1</td>\n",
              "    </tr>\n",
              "  </tbody>\n",
              "</table>\n",
              "</div>"
            ],
            "text/plain": [
              "                           lat        lng  ...                        addr  e\n",
              "timeStamp                                  ...                               \n",
              "2015-12-10 17:40:00  40.297876 -75.581294  ...      REINDEER CT & DEAD END  1\n",
              "2015-12-10 17:40:00  40.258061 -75.264680  ...  BRIAR PATH & WHITEMARSH LN  1\n",
              "2015-12-10 17:40:00  40.121182 -75.351975  ...                    HAWS AVE  1\n",
              "2015-12-10 17:40:01  40.116153 -75.343513  ...          AIRY ST & SWEDE ST  1\n",
              "2015-12-10 17:40:01  40.251492 -75.603350  ...    CHERRYWOOD CT & DEAD END  1\n",
              "\n",
              "[5 rows x 8 columns]"
            ]
          },
          "metadata": {
            "tags": []
          },
          "execution_count": 216
        }
      ]
    },
    {
      "cell_type": "code",
      "metadata": {
        "colab": {
          "base_uri": "https://localhost:8080/"
        },
        "id": "4w26X0wReNJ9",
        "outputId": "9a0c8ac9-e575-46b9-d28e-c785782f5faf"
      },
      "source": [
        ""
      ],
      "execution_count": null,
      "outputs": [
        {
          "output_type": "execute_result",
          "data": {
            "text/plain": [
              "DatetimeIndex(['2015-12-10 17:40:00', '2015-12-10 17:40:00',\n",
              "               '2015-12-10 17:40:00', '2015-12-10 17:40:01',\n",
              "               '2015-12-10 17:40:01', '2015-12-10 17:40:01',\n",
              "               '2015-12-10 17:40:01', '2015-12-10 17:40:01',\n",
              "               '2015-12-10 17:40:01', '2015-12-10 17:40:01',\n",
              "               ...\n",
              "               '2016-08-24 10:52:03', '2016-08-24 10:57:00',\n",
              "               '2016-08-24 10:57:00', '2016-08-24 10:57:01',\n",
              "               '2016-08-24 11:02:02', '2016-08-24 11:06:00',\n",
              "               '2016-08-24 11:07:02', '2016-08-24 11:12:00',\n",
              "               '2016-08-24 11:17:01', '2016-08-24 11:17:02'],\n",
              "              dtype='datetime64[ns]', name='timeStamp', length=99492, freq=None)"
            ]
          },
          "metadata": {
            "tags": []
          },
          "execution_count": 217
        }
      ]
    },
    {
      "cell_type": "code",
      "metadata": {
        "colab": {
          "base_uri": "https://localhost:8080/"
        },
        "id": "khbSCvZyJ1Yz",
        "outputId": "2da7ff58-1a21-4a3b-9687-6353395e1ea6"
      },
      "source": [
        "# 4. Which day had the most calls, and the least calls?\r\n",
        "df.groupby(df.index.strftime('%Y-%m-%d')).count()['title'].sort_values(ascending = False) # by each day`"
      ],
      "execution_count": null,
      "outputs": [
        {
          "output_type": "execute_result",
          "data": {
            "text/plain": [
              "timeStamp\n",
              "2016-01-23    913\n",
              "2016-02-24    679\n",
              "2016-01-24    662\n",
              "2016-01-12    588\n",
              "2016-04-03    586\n",
              "             ... \n",
              "2016-02-07    255\n",
              "2016-03-20    244\n",
              "2016-05-01    140\n",
              "2016-08-24    132\n",
              "2015-12-10    115\n",
              "Name: title, Length: 259, dtype: int64"
            ]
          },
          "metadata": {
            "tags": []
          },
          "execution_count": 222
        }
      ]
    },
    {
      "cell_type": "code",
      "metadata": {
        "colab": {
          "base_uri": "https://localhost:8080/"
        },
        "id": "sY-7vV0hKKPR",
        "outputId": "988a2f38-d40d-4338-ff02-347175a95f16"
      },
      "source": [
        "# 5. Which zip code has the most calls, which has the least? 19401 with 8% of all calls, 7 zip codes with only 1 call\r\n",
        "df['zip'].value_counts(normalize = True).head(1) * 100 "
      ],
      "execution_count": null,
      "outputs": [
        {
          "output_type": "execute_result",
          "data": {
            "text/plain": [
              "19401.0    8.05545\n",
              "Name: zip, dtype: float64"
            ]
          },
          "metadata": {
            "tags": []
          },
          "execution_count": 160
        }
      ]
    },
    {
      "cell_type": "code",
      "metadata": {
        "colab": {
          "base_uri": "https://localhost:8080/"
        },
        "id": "EtPDywtoLJ_1",
        "outputId": "d45033ea-f862-434e-dceb-df759ea5ce37"
      },
      "source": [
        "df['zip'].value_counts(normalize = True).tail(1) * 100 "
      ],
      "execution_count": null,
      "outputs": [
        {
          "output_type": "execute_result",
          "data": {
            "text/plain": [
              "17752.0    0.001154\n",
              "Name: zip, dtype: float64"
            ]
          },
          "metadata": {
            "tags": []
          },
          "execution_count": 161
        }
      ]
    },
    {
      "cell_type": "code",
      "metadata": {
        "colab": {
          "base_uri": "https://localhost:8080/"
        },
        "id": "8AY3U5p9KuY6",
        "outputId": "a0f0f85a-5877-4f5f-c4c0-d41faef8991e"
      },
      "source": [
        "# 6. Serious issues with missing data?\r\n",
        "df.groupby(df.index.strftime('%m')).count()['e'] # month"
      ],
      "execution_count": null,
      "outputs": [
        {
          "output_type": "execute_result",
          "data": {
            "text/plain": [
              "timeStamp\n",
              "01    13205\n",
              "02    11467\n",
              "03    11101\n",
              "04    11326\n",
              "05    11423\n",
              "06    11786\n",
              "07    12137\n",
              "08     9078\n",
              "12     7969\n",
              "Name: e, dtype: int64"
            ]
          },
          "metadata": {
            "tags": []
          },
          "execution_count": 224
        }
      ]
    },
    {
      "cell_type": "code",
      "metadata": {
        "colab": {
          "base_uri": "https://localhost:8080/"
        },
        "id": "L7dm6FuRO5IQ",
        "outputId": "83befbf6-004c-4568-e211-d4a1d48e2567"
      },
      "source": [
        "# Further Findings\r\n",
        "# townships\r\n",
        "numbers = [5, 10, 20]\r\n",
        "for number in numbers:\r\n",
        "  print(f\"{number} twp account for {round((df['twp'].value_counts(normalize = True).head(number) * 100).sum(), 2)} % of all 911 calls\")\r\n",
        "# there are 68 twp in total"
      ],
      "execution_count": null,
      "outputs": [
        {
          "output_type": "stream",
          "text": [
            "5 twp account for 30.28 % of all 911 calls\n",
            "10 twp account for 47.34 % of all 911 calls\n",
            "20 twp account for 69.76 % of all 911 calls\n"
          ],
          "name": "stdout"
        }
      ]
    },
    {
      "cell_type": "code",
      "metadata": {
        "colab": {
          "base_uri": "https://localhost:8080/"
        },
        "id": "Cz1-rk_UTc30",
        "outputId": "468c732f-40df-4efc-941b-be2417bf06ad"
      },
      "source": [
        "df['zip'].value_counts(normalize = True).head(10) * 100"
      ],
      "execution_count": null,
      "outputs": [
        {
          "output_type": "execute_result",
          "data": {
            "text/plain": [
              "19401.0    8.055450\n",
              "19464.0    7.667625\n",
              "19403.0    5.602687\n",
              "19446.0    5.480338\n",
              "19406.0    3.663562\n",
              "19002.0    3.520436\n",
              "19468.0    3.451181\n",
              "19454.0    3.209945\n",
              "19090.0    3.041426\n",
              "19038.0    2.975634\n",
              "Name: zip, dtype: float64"
            ]
          },
          "metadata": {
            "tags": []
          },
          "execution_count": 189
        }
      ]
    },
    {
      "cell_type": "code",
      "metadata": {
        "colab": {
          "base_uri": "https://localhost:8080/"
        },
        "id": "n_5EEkolfEob",
        "outputId": "79c9fa13-4112-43f3-d4ac-21d66b762090"
      },
      "source": [
        "round((df['zip'].value_counts(normalize = True).head(50) * 100).sum(),2)\r\n",
        " # there are 104 zipcodes in total\r\n"
      ],
      "execution_count": null,
      "outputs": [
        {
          "output_type": "execute_result",
          "data": {
            "text/plain": [
              "96.6"
            ]
          },
          "metadata": {
            "tags": []
          },
          "execution_count": 237
        }
      ]
    },
    {
      "cell_type": "code",
      "metadata": {
        "colab": {
          "base_uri": "https://localhost:8080/"
        },
        "id": "ZR_tkyyUOtzO",
        "outputId": "ce4b41a3-0ce7-4f07-c18b-3861bb2420da"
      },
      "source": [
        "# ZIPCODE\r\n",
        "numbers = [10,20,50]\r\n",
        "\r\n",
        "for number in numbers:\r\n",
        "  print(f\"{number} zipcodes account for {round((df['zip'].value_counts(normalize = True).head(number) * 100).sum(), 2)} % of all 911 calls\")\r\n",
        " # there are 104 zipcodes in total\r\n"
      ],
      "execution_count": null,
      "outputs": [
        {
          "output_type": "stream",
          "text": [
            "10 zipcodes account for 46.67 % of all 911 calls\n",
            "20 zipcodes account for 70.98 % of all 911 calls\n",
            "50 zipcodes account for 96.6 % of all 911 calls\n"
          ],
          "name": "stdout"
        }
      ]
    },
    {
      "cell_type": "code",
      "metadata": {
        "id": "xdLH0JP7P_c4"
      },
      "source": [
        "# When do most of the calls come?"
      ],
      "execution_count": null,
      "outputs": []
    },
    {
      "cell_type": "code",
      "metadata": {
        "colab": {
          "base_uri": "https://localhost:8080/"
        },
        "id": "XlJPVnE_Pb6K",
        "outputId": "e570069f-51a4-45cc-8e4a-4ce52744e57e"
      },
      "source": [
        "(df.groupby(df.index.strftime('%H')).count()['e']).sort_values()"
      ],
      "execution_count": null,
      "outputs": [
        {
          "output_type": "execute_result",
          "data": {
            "text/plain": [
              "timeStamp\n",
              "04    1418\n",
              "03    1435\n",
              "02    1549\n",
              "05    1629\n",
              "01    1721\n",
              "00    2112\n",
              "06    2513\n",
              "23    2559\n",
              "22    3283\n",
              "21    3788\n",
              "07    3970\n",
              "20    4377\n",
              "19    4908\n",
              "08    5044\n",
              "09    5314\n",
              "10    5413\n",
              "11    5543\n",
              "18    5762\n",
              "13    5967\n",
              "14    5997\n",
              "12    6029\n",
              "15    6154\n",
              "16    6490\n",
              "17    6517\n",
              "Name: e, dtype: int64"
            ]
          },
          "metadata": {
            "tags": []
          },
          "execution_count": 186
        }
      ]
    },
    {
      "cell_type": "code",
      "metadata": {
        "id": "lPUSoMHaRC0M"
      },
      "source": [
        ""
      ],
      "execution_count": null,
      "outputs": []
    },
    {
      "cell_type": "code",
      "metadata": {
        "colab": {
          "base_uri": "https://localhost:8080/"
        },
        "id": "D5lpi99eodjy",
        "outputId": "3dda6085-9272-43d7-c386-4cc7d8e9f5d9"
      },
      "source": [
        "from google.colab import drive\n",
        "drive.mount('/content/drive')"
      ],
      "execution_count": null,
      "outputs": [
        {
          "output_type": "stream",
          "text": [
            "Mounted at /content/drive\n"
          ],
          "name": "stdout"
        }
      ]
    },
    {
      "cell_type": "code",
      "metadata": {
        "id": "W9grgLjZ_7Wv"
      },
      "source": [
        "import pandas as pd"
      ],
      "execution_count": null,
      "outputs": []
    },
    {
      "cell_type": "code",
      "metadata": {
        "id": "QuwC93BLoo3f",
        "colab": {
          "base_uri": "https://localhost:8080/",
          "height": 314
        },
        "outputId": "4eadf2e1-727b-48ef-de63-8867ff8eeeb4"
      },
      "source": [
        "df = pd.read_csv('/content/drive/MyDrive/CUNY Research Data Analytics 1A/data/911.csv', index_col = 'timeStamp', parse_dates = True)\r\n",
        "df.head()"
      ],
      "execution_count": null,
      "outputs": [
        {
          "output_type": "execute_result",
          "data": {
            "text/html": [
              "<div>\n",
              "<style scoped>\n",
              "    .dataframe tbody tr th:only-of-type {\n",
              "        vertical-align: middle;\n",
              "    }\n",
              "\n",
              "    .dataframe tbody tr th {\n",
              "        vertical-align: top;\n",
              "    }\n",
              "\n",
              "    .dataframe thead th {\n",
              "        text-align: right;\n",
              "    }\n",
              "</style>\n",
              "<table border=\"1\" class=\"dataframe\">\n",
              "  <thead>\n",
              "    <tr style=\"text-align: right;\">\n",
              "      <th></th>\n",
              "      <th>lat</th>\n",
              "      <th>lng</th>\n",
              "      <th>desc</th>\n",
              "      <th>zip</th>\n",
              "      <th>title</th>\n",
              "      <th>twp</th>\n",
              "      <th>addr</th>\n",
              "      <th>e</th>\n",
              "    </tr>\n",
              "    <tr>\n",
              "      <th>timeStamp</th>\n",
              "      <th></th>\n",
              "      <th></th>\n",
              "      <th></th>\n",
              "      <th></th>\n",
              "      <th></th>\n",
              "      <th></th>\n",
              "      <th></th>\n",
              "      <th></th>\n",
              "    </tr>\n",
              "  </thead>\n",
              "  <tbody>\n",
              "    <tr>\n",
              "      <th>2015-12-10 17:40:00</th>\n",
              "      <td>40.297876</td>\n",
              "      <td>-75.581294</td>\n",
              "      <td>REINDEER CT &amp; DEAD END;  NEW HANOVER; Station ...</td>\n",
              "      <td>19525.0</td>\n",
              "      <td>EMS: BACK PAINS/INJURY</td>\n",
              "      <td>NEW HANOVER</td>\n",
              "      <td>REINDEER CT &amp; DEAD END</td>\n",
              "      <td>1</td>\n",
              "    </tr>\n",
              "    <tr>\n",
              "      <th>2015-12-10 17:40:00</th>\n",
              "      <td>40.258061</td>\n",
              "      <td>-75.264680</td>\n",
              "      <td>BRIAR PATH &amp; WHITEMARSH LN;  HATFIELD TOWNSHIP...</td>\n",
              "      <td>19446.0</td>\n",
              "      <td>EMS: DIABETIC EMERGENCY</td>\n",
              "      <td>HATFIELD TOWNSHIP</td>\n",
              "      <td>BRIAR PATH &amp; WHITEMARSH LN</td>\n",
              "      <td>1</td>\n",
              "    </tr>\n",
              "    <tr>\n",
              "      <th>2015-12-10 17:40:00</th>\n",
              "      <td>40.121182</td>\n",
              "      <td>-75.351975</td>\n",
              "      <td>HAWS AVE; NORRISTOWN; 2015-12-10 @ 14:39:21-St...</td>\n",
              "      <td>19401.0</td>\n",
              "      <td>Fire: GAS-ODOR/LEAK</td>\n",
              "      <td>NORRISTOWN</td>\n",
              "      <td>HAWS AVE</td>\n",
              "      <td>1</td>\n",
              "    </tr>\n",
              "    <tr>\n",
              "      <th>2015-12-10 17:40:01</th>\n",
              "      <td>40.116153</td>\n",
              "      <td>-75.343513</td>\n",
              "      <td>AIRY ST &amp; SWEDE ST;  NORRISTOWN; Station 308A;...</td>\n",
              "      <td>19401.0</td>\n",
              "      <td>EMS: CARDIAC EMERGENCY</td>\n",
              "      <td>NORRISTOWN</td>\n",
              "      <td>AIRY ST &amp; SWEDE ST</td>\n",
              "      <td>1</td>\n",
              "    </tr>\n",
              "    <tr>\n",
              "      <th>2015-12-10 17:40:01</th>\n",
              "      <td>40.251492</td>\n",
              "      <td>-75.603350</td>\n",
              "      <td>CHERRYWOOD CT &amp; DEAD END;  LOWER POTTSGROVE; S...</td>\n",
              "      <td>NaN</td>\n",
              "      <td>EMS: DIZZINESS</td>\n",
              "      <td>LOWER POTTSGROVE</td>\n",
              "      <td>CHERRYWOOD CT &amp; DEAD END</td>\n",
              "      <td>1</td>\n",
              "    </tr>\n",
              "  </tbody>\n",
              "</table>\n",
              "</div>"
            ],
            "text/plain": [
              "                           lat        lng  ...                        addr  e\n",
              "timeStamp                                  ...                               \n",
              "2015-12-10 17:40:00  40.297876 -75.581294  ...      REINDEER CT & DEAD END  1\n",
              "2015-12-10 17:40:00  40.258061 -75.264680  ...  BRIAR PATH & WHITEMARSH LN  1\n",
              "2015-12-10 17:40:00  40.121182 -75.351975  ...                    HAWS AVE  1\n",
              "2015-12-10 17:40:01  40.116153 -75.343513  ...          AIRY ST & SWEDE ST  1\n",
              "2015-12-10 17:40:01  40.251492 -75.603350  ...    CHERRYWOOD CT & DEAD END  1\n",
              "\n",
              "[5 rows x 8 columns]"
            ]
          },
          "metadata": {
            "tags": []
          },
          "execution_count": 101
        }
      ]
    },
    {
      "cell_type": "markdown",
      "metadata": {
        "id": "gbSWvHYap2y5"
      },
      "source": [
        "Data from : <br>2015-12-10  <br> to <br> 2016-08-24"
      ]
    },
    {
      "cell_type": "markdown",
      "metadata": {
        "id": "HojYwYE5oyk0"
      },
      "source": [
        "For missing values"
      ]
    },
    {
      "cell_type": "code",
      "metadata": {
        "colab": {
          "base_uri": "https://localhost:8080/"
        },
        "id": "0dooFZdlowJV",
        "outputId": "28d84f33-80d8-45c3-f338-094a0446fd4a"
      },
      "source": [
        "df.isna().sum()"
      ],
      "execution_count": null,
      "outputs": [
        {
          "output_type": "execute_result",
          "data": {
            "text/plain": [
              "lat              0\n",
              "lng              0\n",
              "desc             0\n",
              "zip          12855\n",
              "title            0\n",
              "timeStamp        0\n",
              "twp             43\n",
              "addr           519\n",
              "e                0\n",
              "dtype: int64"
            ]
          },
          "metadata": {
            "tags": []
          },
          "execution_count": 6
        }
      ]
    },
    {
      "cell_type": "code",
      "metadata": {
        "colab": {
          "base_uri": "https://localhost:8080/"
        },
        "id": "02-BfdAIo3zO",
        "outputId": "6b18d5b5-d8ca-4456-8b96-261119674b73"
      },
      "source": [
        "df.isna().sum()/len(df) * 100"
      ],
      "execution_count": null,
      "outputs": [
        {
          "output_type": "execute_result",
          "data": {
            "text/plain": [
              "lat           0.000000\n",
              "lng           0.000000\n",
              "desc          0.000000\n",
              "zip          12.920637\n",
              "title         0.000000\n",
              "timeStamp     0.000000\n",
              "twp           0.043220\n",
              "addr          0.521650\n",
              "e             0.000000\n",
              "dtype: float64"
            ]
          },
          "metadata": {
            "tags": []
          },
          "execution_count": 8
        }
      ]
    },
    {
      "cell_type": "code",
      "metadata": {
        "colab": {
          "base_uri": "https://localhost:8080/"
        },
        "id": "UqpvXmu_o9jC",
        "outputId": "18a84327-28bd-46ff-dce9-440480344662"
      },
      "source": [
        "df.nunique()"
      ],
      "execution_count": null,
      "outputs": [
        {
          "output_type": "execute_result",
          "data": {
            "text/plain": [
              "lat      14579\n",
              "lng      14586\n",
              "desc     99455\n",
              "zip        104\n",
              "title      110\n",
              "twp         68\n",
              "addr     21914\n",
              "e            1\n",
              "dtype: int64"
            ]
          },
          "metadata": {
            "tags": []
          },
          "execution_count": 12
        }
      ]
    },
    {
      "cell_type": "code",
      "metadata": {
        "colab": {
          "base_uri": "https://localhost:8080/"
        },
        "id": "rRgpEYORqY7D",
        "outputId": "c30fb257-1c20-4edd-e697-2ebc0bf65af7"
      },
      "source": [
        "df['title'].value_counts(normalize = True) * 100"
      ],
      "execution_count": null,
      "outputs": [
        {
          "output_type": "execute_result",
          "data": {
            "text/plain": [
              "Traffic: VEHICLE ACCIDENT -        23.183774\n",
              "Traffic: DISABLED VEHICLE -         7.741326\n",
              "Fire: FIRE ALARM                    5.524062\n",
              "EMS: RESPIRATORY EMERGENCY          5.138102\n",
              "EMS: CARDIAC EMERGENCY              5.037591\n",
              "                                     ...    \n",
              "EMS: PLANE CRASH                    0.001005\n",
              "EMS: BOMB DEVICE FOUND              0.001005\n",
              "Fire: UNKNOWN MEDICAL EMERGENCY     0.001005\n",
              "Fire: UNCONSCIOUS SUBJECT           0.001005\n",
              "EMS: DISABLED VEHICLE               0.001005\n",
              "Name: title, Length: 110, dtype: float64"
            ]
          },
          "metadata": {
            "tags": []
          },
          "execution_count": 71
        }
      ]
    },
    {
      "cell_type": "code",
      "metadata": {
        "id": "hXFoMOier1SJ",
        "colab": {
          "base_uri": "https://localhost:8080/"
        },
        "outputId": "1b3347a5-7bab-4a19-c844-40c2a75199c0"
      },
      "source": [
        "boolean_mask = df['title'].str.lower().str.contains('vehicle')\r\n",
        "df[boolean_mask]['title'].unique()"
      ],
      "execution_count": null,
      "outputs": [
        {
          "output_type": "execute_result",
          "data": {
            "text/plain": [
              "array(['Traffic: VEHICLE ACCIDENT -', 'EMS: VEHICLE ACCIDENT',\n",
              "       'Traffic: DISABLED VEHICLE -', 'Fire: VEHICLE ACCIDENT',\n",
              "       'Traffic: VEHICLE LEAKING FUEL -', 'Fire: VEHICLE FIRE',\n",
              "       'Traffic: VEHICLE FIRE -', 'Fire: VEHICLE LEAKING FUEL',\n",
              "       'EMS: VEHICLE FIRE', 'EMS: DISABLED VEHICLE'], dtype=object)"
            ]
          },
          "metadata": {
            "tags": []
          },
          "execution_count": 70
        }
      ]
    },
    {
      "cell_type": "code",
      "metadata": {
        "colab": {
          "base_uri": "https://localhost:8080/"
        },
        "id": "fAZIESM4zPT7",
        "outputId": "e545f64b-c140-4de0-e2a6-55a0e34c5953"
      },
      "source": [
        "df[boolean_mask]['title'].count()/len(df) * 100"
      ],
      "execution_count": null,
      "outputs": [
        {
          "output_type": "execute_result",
          "data": {
            "text/plain": [
              "37.78293732159369"
            ]
          },
          "metadata": {
            "tags": []
          },
          "execution_count": 72
        }
      ]
    },
    {
      "cell_type": "markdown",
      "metadata": {
        "id": "FQ8gv6jc0gL7"
      },
      "source": [
        "FOR ZIP CODES"
      ]
    },
    {
      "cell_type": "code",
      "metadata": {
        "colab": {
          "base_uri": "https://localhost:8080/"
        },
        "id": "TYYZf_Ga0Y3A",
        "outputId": "ddba5626-35b9-49e8-cdea-da3a2318fc24"
      },
      "source": [
        "df['zip'].nunique() # there are 104 unique zipcodes"
      ],
      "execution_count": null,
      "outputs": [
        {
          "output_type": "execute_result",
          "data": {
            "text/plain": [
              "104"
            ]
          },
          "metadata": {
            "tags": []
          },
          "execution_count": 77
        }
      ]
    },
    {
      "cell_type": "code",
      "metadata": {
        "colab": {
          "base_uri": "https://localhost:8080/"
        },
        "id": "cvg8izxJzzYg",
        "outputId": "b78fde7f-75d2-4d62-d0ee-57ba721227a5"
      },
      "source": [
        "df['zip'].value_counts(normalize = True).head(10) * 100 "
      ],
      "execution_count": null,
      "outputs": [
        {
          "output_type": "execute_result",
          "data": {
            "text/plain": [
              "19401.0    8.055450\n",
              "19464.0    7.667625\n",
              "19403.0    5.602687\n",
              "19446.0    5.480338\n",
              "19406.0    3.663562\n",
              "19002.0    3.520436\n",
              "19468.0    3.451181\n",
              "19454.0    3.209945\n",
              "19090.0    3.041426\n",
              "19038.0    2.975634\n",
              "Name: zip, dtype: float64"
            ]
          },
          "metadata": {
            "tags": []
          },
          "execution_count": 144
        }
      ]
    },
    {
      "cell_type": "code",
      "metadata": {
        "colab": {
          "base_uri": "https://localhost:8080/"
        },
        "id": "HMgMJEFd0T4E",
        "outputId": "3283c077-61a8-4144-a230-e7b7e32fd051"
      },
      "source": [
        "numbers = [10,20,50]\r\n",
        "for number in numbers:\r\n",
        "  print(f\"{number} zipcodes account for {round((df['zip'].value_counts(normalize = True).head(number) * 100).sum(), 2)} of all 911 calls\")\r\n",
        " # there are 104 zipcodes in total\r\n"
      ],
      "execution_count": null,
      "outputs": [
        {
          "output_type": "stream",
          "text": [
            "10 zipcodes account for 46.67 of all 911 calls\n",
            "20 zipcodes account for 70.98 of all 911 calls\n",
            "50 zipcodes account for 96.6 of all 911 calls\n"
          ],
          "name": "stdout"
        }
      ]
    },
    {
      "cell_type": "markdown",
      "metadata": {
        "id": "L_7qjt3I1upN"
      },
      "source": [
        "Would love to tally this against the population data"
      ]
    },
    {
      "cell_type": "code",
      "metadata": {
        "colab": {
          "base_uri": "https://localhost:8080/"
        },
        "id": "M5ifaC3v1ISd",
        "outputId": "634e0c21-f0ca-4dfb-d54b-fccdd60aabec"
      },
      "source": [
        "df['twp'].value_counts(normalize = True)"
      ],
      "execution_count": null,
      "outputs": [
        {
          "output_type": "execute_result",
          "data": {
            "text/plain": [
              "LOWER MERION     0.084898\n",
              "ABINGTON         0.060101\n",
              "NORRISTOWN       0.059226\n",
              "UPPER MERION     0.052560\n",
              "CHELTENHAM       0.046003\n",
              "                   ...   \n",
              "BRYN ATHYN       0.001740\n",
              "SALFORD          0.001639\n",
              "GREEN LANE       0.000513\n",
              "PHILA COUNTY     0.000432\n",
              "LEHIGH COUNTY    0.000302\n",
              "Name: twp, Length: 68, dtype: float64"
            ]
          },
          "metadata": {
            "tags": []
          },
          "execution_count": 100
        }
      ]
    },
    {
      "cell_type": "code",
      "metadata": {
        "colab": {
          "base_uri": "https://localhost:8080/"
        },
        "id": "PE6Lkp352n6s",
        "outputId": "06e51bc2-9a2f-4468-83fb-7f91237d685b"
      },
      "source": [
        "numbers = [5, 10, 20]\r\n",
        "for number in numbers:\r\n",
        "  print(f\"{number} twp account for {round((df['twp'].value_counts(normalize = True).head(number) * 100).sum(), 2)} of all 911 calls\")\r\n",
        "# there are 68 twp in total"
      ],
      "execution_count": null,
      "outputs": [
        {
          "output_type": "stream",
          "text": [
            "5 twp account for 30.28 of all 911 calls\n",
            "10 twp account for 47.34 of all 911 calls\n",
            "20 twp account for 69.76 of all 911 calls\n"
          ],
          "name": "stdout"
        }
      ]
    },
    {
      "cell_type": "markdown",
      "metadata": {
        "id": "xp4NKPvJ33o5"
      },
      "source": [
        "by the day of the week, day of the month, month, and year"
      ]
    },
    {
      "cell_type": "code",
      "metadata": {
        "colab": {
          "base_uri": "https://localhost:8080/"
        },
        "id": "vdAkAAqL5Qoz",
        "outputId": "d296a3c8-ef2a-47f8-e937-9e45f6af7e4c"
      },
      "source": [
        "df.groupby(df.index.strftime('%Y-%m-%d')).count()['e'].sort_values(ascending = False) # by each day"
      ],
      "execution_count": null,
      "outputs": [
        {
          "output_type": "execute_result",
          "data": {
            "text/plain": [
              "timeStamp\n",
              "2016-01-23    913\n",
              "2016-02-24    679\n",
              "2016-01-24    662\n",
              "2016-01-12    588\n",
              "2016-04-03    586\n",
              "             ... \n",
              "2016-02-07    255\n",
              "2016-03-20    244\n",
              "2016-05-01    140\n",
              "2016-08-24    132\n",
              "2015-12-10    115\n",
              "Name: e, Length: 259, dtype: int64"
            ]
          },
          "metadata": {
            "tags": []
          },
          "execution_count": 136
        }
      ]
    },
    {
      "cell_type": "code",
      "metadata": {
        "colab": {
          "base_uri": "https://localhost:8080/"
        },
        "id": "h9tLGpy74w3T",
        "outputId": "a1f129a8-4fb6-4d4a-d841-47acfa267d11"
      },
      "source": [
        "df.groupby(df.index.strftime('%a')).count()['e'] # day of the week"
      ],
      "execution_count": null,
      "outputs": [
        {
          "output_type": "execute_result",
          "data": {
            "text/plain": [
              "timeStamp\n",
              "Fri    14833\n",
              "Mon    14680\n",
              "Sat    13336\n",
              "Sun    12136\n",
              "Thu    14478\n",
              "Tue    15150\n",
              "Wed    14879\n",
              "Name: e, dtype: int64"
            ]
          },
          "metadata": {
            "tags": []
          },
          "execution_count": 120
        }
      ]
    },
    {
      "cell_type": "code",
      "metadata": {
        "colab": {
          "base_uri": "https://localhost:8080/"
        },
        "id": "61jDIQuS5ENj",
        "outputId": "5e66c248-3d8a-453b-89b1-60a0795d6a7a"
      },
      "source": [
        "df.groupby(df.index.strftime('%d')).count()['e'] # day of the month"
      ],
      "execution_count": null,
      "outputs": [
        {
          "output_type": "execute_result",
          "data": {
            "text/plain": [
              "timeStamp\n",
              "01    2876\n",
              "02    3044\n",
              "03    3215\n",
              "04    2955\n",
              "05    2964\n",
              "06    3098\n",
              "07    2926\n",
              "08    3120\n",
              "09    2870\n",
              "10    3071\n",
              "11    3647\n",
              "12    3628\n",
              "13    3525\n",
              "14    3468\n",
              "15    3585\n",
              "16    3539\n",
              "17    3339\n",
              "18    3284\n",
              "19    3423\n",
              "20    3201\n",
              "21    3370\n",
              "22    3407\n",
              "23    4185\n",
              "24    3661\n",
              "25    3473\n",
              "26    3116\n",
              "27    3006\n",
              "28    3229\n",
              "29    3060\n",
              "30    2442\n",
              "31    1765\n",
              "Name: e, dtype: int64"
            ]
          },
          "metadata": {
            "tags": []
          },
          "execution_count": 122
        }
      ]
    },
    {
      "cell_type": "code",
      "metadata": {
        "colab": {
          "base_uri": "https://localhost:8080/"
        },
        "id": "j3ilUYS43zyW",
        "outputId": "7b84e7b1-c22c-40fb-f825-9ce0befd92a7"
      },
      "source": [
        "df.groupby(df.index.strftime('%m')).count()['e'] # month"
      ],
      "execution_count": null,
      "outputs": [
        {
          "output_type": "execute_result",
          "data": {
            "text/plain": [
              "timeStamp\n",
              "01    13205\n",
              "02    11467\n",
              "03    11101\n",
              "04    11326\n",
              "05    11423\n",
              "06    11786\n",
              "07    12137\n",
              "08     9078\n",
              "12     7969\n",
              "Name: e, dtype: int64"
            ]
          },
          "metadata": {
            "tags": []
          },
          "execution_count": 123
        }
      ]
    },
    {
      "cell_type": "code",
      "metadata": {
        "id": "WhDF_VVK5BAy"
      },
      "source": [
        "# completely missing data from 9, 10, 11 september, october, november"
      ],
      "execution_count": null,
      "outputs": []
    },
    {
      "cell_type": "code",
      "metadata": {
        "colab": {
          "base_uri": "https://localhost:8080/"
        },
        "id": "4M5orm4_4B8n",
        "outputId": "5142a935-4cad-4e43-e3d5-4c0efe7af424"
      },
      "source": [
        "df.groupby(df.index.strftime('%Y')).count()['e']"
      ],
      "execution_count": null,
      "outputs": [
        {
          "output_type": "execute_result",
          "data": {
            "text/plain": [
              "timeStamp\n",
              "2015     7969\n",
              "2016    91523\n",
              "Name: e, dtype: int64"
            ]
          },
          "metadata": {
            "tags": []
          },
          "execution_count": 118
        }
      ]
    }
  ]
}