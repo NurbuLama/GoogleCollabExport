{
  "nbformat": 4,
  "nbformat_minor": 0,
  "metadata": {
    "colab": {
      "name": "basicCalc.ipynb",
      "provenance": [],
      "authorship_tag": "ABX9TyPCr8Imk8/XgHpCrWUDvtju",
      "include_colab_link": true
    },
    "kernelspec": {
      "name": "python3",
      "display_name": "Python 3"
    }
  },
  "cells": [
    {
      "cell_type": "markdown",
      "metadata": {
        "id": "view-in-github",
        "colab_type": "text"
      },
      "source": [
        "<a href=\"https://colab.research.google.com/github/NurbuLama/GoogleCollabExport/blob/master/basicCalc.ipynb\" target=\"_parent\"><img src=\"https://colab.research.google.com/assets/colab-badge.svg\" alt=\"Open In Colab\"/></a>"
      ]
    },
    {
      "cell_type": "code",
      "metadata": {
        "id": "kQLtqg5_XYb0"
      },
      "source": [
        "def add(a,b):\n",
        "  return a+b\n",
        "\n",
        "def sub(a,b):\n",
        "  return a-b\n",
        "\n",
        "def div(a,b):\n",
        "  return a/b\n",
        "\n",
        "def mul(a,b):\n",
        "  return a*b\n",
        "def calc():\n",
        "  ''' A simple calculator to perform binary mathematical operations '''\n",
        "\n",
        "  # Boolean for running the calculator\n",
        "  is_running = True\n",
        "  # Running total to be saved by the calculator if the user wishes to save it\n",
        "  result = 0\n",
        "  # Boolean for saving the previous computation\n",
        "  save = False\n",
        "\n",
        "  while is_running:\n",
        "    operation = input('Enter a mathematical operator (+, -, *, /) [PRESS Q TO QUIT]: ')\n",
        "\n",
        "    # Checks if the user wishes to quit\n",
        "    if operation == 'Q':\n",
        "      break\n",
        "\n",
        "    # Checks if the user wanted to save the previous computation\n",
        "    # If he/she does, the previous computation becomes the first operand\n",
        "    if not save:\n",
        "      op1 = float(input('Enter the first operand: '))\n",
        "    else:\n",
        "      op1 = result\n",
        "      op2 = float(input('Enter the second operand: '))\n",
        "# Checks which binary operation the user requested\n",
        "    if operation == '+':\n",
        "      result = add(op1, op2)\n",
        "      print('The result is', result)\n",
        "    elif operation == '-':\n",
        "      result = sub(op1, op2)\n",
        "      print('The result is', result)\n",
        "    elif operation == '*':\n",
        "      result = mult(op1, op2)\n",
        "      print('The result is', result)\n",
        "    elif operation == '/':\n",
        "      result = divide(op1, op2)\n",
        "      print('The result is', result)\n",
        "    else:\n",
        "      print(operation, 'is not a valid operation')\n",
        " "
      ],
      "execution_count": 55,
      "outputs": []
    },
    {
      "cell_type": "code",
      "metadata": {
        "id": "SYBu6nx2fNdr"
      },
      "source": [
        ""
      ],
      "execution_count": null,
      "outputs": []
    }
  ]
}