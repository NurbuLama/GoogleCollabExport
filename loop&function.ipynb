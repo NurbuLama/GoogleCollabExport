{
  "nbformat": 4,
  "nbformat_minor": 0,
  "metadata": {
    "colab": {
      "name": "loop&function.ipynb",
      "provenance": [],
      "authorship_tag": "ABX9TyNsxDdC+YXN7h8teqkM3UYB",
      "include_colab_link": true
    },
    "kernelspec": {
      "name": "python3",
      "display_name": "Python 3"
    }
  },
  "cells": [
    {
      "cell_type": "markdown",
      "metadata": {
        "id": "view-in-github",
        "colab_type": "text"
      },
      "source": [
        "<a href=\"https://colab.research.google.com/github/NurbuLama/GoogleCollabExport/blob/master/loop%26function.ipynb\" target=\"_parent\"><img src=\"https://colab.research.google.com/assets/colab-badge.svg\" alt=\"Open In Colab\"/></a>"
      ]
    },
    {
      "cell_type": "code",
      "metadata": {
        "colab": {
          "base_uri": "https://localhost:8080/"
        },
        "id": "lZA-L1RQUaJ8",
        "outputId": "e516b8f4-cd4f-403a-e47c-32a478acc757"
      },
      "source": [
        "tvShows=['star trek','game of thrones','stranger things']\n",
        "for show in tvShows:\n",
        "  print (show)"
      ],
      "execution_count": 6,
      "outputs": [
        {
          "output_type": "stream",
          "text": [
            "star trek\n",
            "game of thrones\n",
            "stranger things\n"
          ],
          "name": "stdout"
        }
      ]
    },
    {
      "cell_type": "code",
      "metadata": {
        "colab": {
          "base_uri": "https://localhost:8080/"
        },
        "id": "edJFRdygU0OP",
        "outputId": "7748c979-b3aa-4faf-e21f-87683b3cca9c"
      },
      "source": [
        "for x in 'cuny':\n",
        "  print(x)"
      ],
      "execution_count": 7,
      "outputs": [
        {
          "output_type": "stream",
          "text": [
            "c\n",
            "u\n",
            "n\n",
            "y\n"
          ],
          "name": "stdout"
        }
      ]
    },
    {
      "cell_type": "code",
      "metadata": {
        "colab": {
          "base_uri": "https://localhost:8080/"
        },
        "id": "MNkOdS_aWkbl",
        "outputId": "ad75ad47-c8d6-4270-ea83-f8e64c981dbc"
      },
      "source": [
        "familyName=[\"A\",\"B\",\"C\",\"D\",\"E\",\"F\",\"G\",\"H\",\"I\",\"J\",\"K\",\"L\",\"M\",\"N\",\"O\",\"P\",\"Q\",\"R\",\"S\",\"T\"]\n",
        "for z in range(1,19):\n",
        "  print(familyName[z:z+2])"
      ],
      "execution_count": 106,
      "outputs": [
        {
          "output_type": "stream",
          "text": [
            "['B', 'C']\n",
            "['C', 'D']\n",
            "['D', 'E']\n",
            "['E', 'F']\n",
            "['F', 'G']\n",
            "['G', 'H']\n",
            "['H', 'I']\n",
            "['I', 'J']\n",
            "['J', 'K']\n",
            "['K', 'L']\n",
            "['L', 'M']\n",
            "['M', 'N']\n",
            "['N', 'O']\n",
            "['O', 'P']\n",
            "['P', 'Q']\n",
            "['Q', 'R']\n",
            "['R', 'S']\n",
            "['S', 'T']\n"
          ],
          "name": "stdout"
        }
      ]
    },
    {
      "cell_type": "code",
      "metadata": {
        "colab": {
          "base_uri": "https://localhost:8080/"
        },
        "id": "OcMUCSPTYEaW",
        "outputId": "4aea35a1-d109-40e2-b88b-3a32007789a2"
      },
      "source": [
        "for num in range(1,10):\n",
        "  print(num)"
      ],
      "execution_count": 94,
      "outputs": [
        {
          "output_type": "stream",
          "text": [
            "1\n",
            "2\n",
            "3\n",
            "4\n",
            "5\n",
            "6\n",
            "7\n",
            "8\n",
            "9\n"
          ],
          "name": "stdout"
        }
      ]
    },
    {
      "cell_type": "code",
      "metadata": {
        "colab": {
          "base_uri": "https://localhost:8080/"
        },
        "id": "_WSyFIFjcpYv",
        "outputId": "e7092b88-8c71-483b-b36a-69c005f05144"
      },
      "source": [
        "numbers= list(range(1,11,2))\n",
        "print(numbers)"
      ],
      "execution_count": 18,
      "outputs": [
        {
          "output_type": "stream",
          "text": [
            "[1, 3, 5, 7, 9]\n"
          ],
          "name": "stdout"
        }
      ]
    },
    {
      "cell_type": "code",
      "metadata": {
        "colab": {
          "base_uri": "https://localhost:8080/"
        },
        "id": "odhQ7KQQdWan",
        "outputId": "1b17f38a-480b-4383-9b01-ec1b47657cd2"
      },
      "source": [
        "enterNum= int(input(\"Enter the Number: \"))\n",
        "if enterNum % 2 ==1:\n",
        "  print(\"It's an odd Number\")\n",
        "elif enterNum % 2 ==0:\n",
        "  print(\"It's an even Number\")\n",
        "else:\n",
        "  print(\"Neither\")"
      ],
      "execution_count": 28,
      "outputs": [
        {
          "output_type": "stream",
          "text": [
            "Enter the Number: 2\n",
            "It's an even Number\n"
          ],
          "name": "stdout"
        }
      ]
    },
    {
      "cell_type": "code",
      "metadata": {
        "colab": {
          "base_uri": "https://localhost:8080/"
        },
        "id": "2fe-Up9_eLxn",
        "outputId": "01958cd1-d0e0-4a3c-e485-b957840d1ac3"
      },
      "source": [
        "for num in range(2,15):\n",
        "    if all(num%i!=0 for i in range(2,num)):\n",
        "       print (num)"
      ],
      "execution_count": 89,
      "outputs": [
        {
          "output_type": "stream",
          "text": [
            "2\n",
            "3\n",
            "5\n",
            "7\n",
            "11\n",
            "13\n"
          ],
          "name": "stdout"
        }
      ]
    },
    {
      "cell_type": "code",
      "metadata": {
        "colab": {
          "base_uri": "https://localhost:8080/"
        },
        "id": "x7gYK36ejLnl",
        "outputId": "ae120a9c-07d1-4d39-8cf0-eec570afe20e"
      },
      "source": [
        "n=int(input(\"Enter the upperbound: \"))\n",
        "for k in range(2,n+1):\n",
        "  for i in range(2,n):\n",
        "    if all(n%k!=0 for i in range(2,n+1)):     \n",
        "      print(k)\n",
        "      break\n",
        "      \n",
        "    else:\n",
        "      print(\"{}(not prime)\".format(k))\n",
        "      break\n"
      ],
      "execution_count": 93,
      "outputs": [
        {
          "output_type": "stream",
          "text": [
            "Enter the upperbound: 15\n",
            "2\n",
            "3(not prime)\n",
            "4\n",
            "5(not prime)\n",
            "6\n",
            "7\n",
            "8\n",
            "9\n",
            "10\n",
            "11\n",
            "12\n",
            "13\n",
            "14\n",
            "15(not prime)\n"
          ],
          "name": "stdout"
        }
      ]
    },
    {
      "cell_type": "code",
      "metadata": {
        "id": "AyG3c8FTmCQg"
      },
      "source": [
        ""
      ],
      "execution_count": 45,
      "outputs": []
    }
  ]
}