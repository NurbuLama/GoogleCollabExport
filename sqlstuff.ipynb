{
  "nbformat": 4,
  "nbformat_minor": 0,
  "metadata": {
    "colab": {
      "name": "sqlstuff.ipynb",
      "provenance": [],
      "mount_file_id": "1cMmzc3FGgpxWJV5eopeE6Li-_M7AQ_hb",
      "authorship_tag": "ABX9TyOIihJf3n2srakpZQYOCPJv",
      "include_colab_link": true
    },
    "kernelspec": {
      "name": "python3",
      "display_name": "Python 3"
    }
  },
  "cells": [
    {
      "cell_type": "markdown",
      "metadata": {
        "id": "view-in-github",
        "colab_type": "text"
      },
      "source": [
        "<a href=\"https://colab.research.google.com/github/NurbuLama/GoogleCollabExport/blob/master/sqlstuff.ipynb\" target=\"_parent\"><img src=\"https://colab.research.google.com/assets/colab-badge.svg\" alt=\"Open In Colab\"/></a>"
      ]
    },
    {
      "cell_type": "code",
      "metadata": {
        "id": "E1o1IpUaG5LX"
      },
      "source": [
        "import sqlite3"
      ],
      "execution_count": 5,
      "outputs": []
    },
    {
      "cell_type": "code",
      "metadata": {
        "colab": {
          "base_uri": "https://localhost:8080/"
        },
        "id": "B1xQOWpSHlpT",
        "outputId": "a428db4e-7c42-4d6b-d632-2569c1dc6434"
      },
      "source": [
        "list_datasets=['dataset.db', 'film.db', 'email', 'address', 'actor']\n",
        "try:\n",
        "    conn = sqlite3.connect('/content/drive/MyDrive/dataProjects/database/address.db')\n",
        "    cursor= conn.cursor()\n",
        "    print('Database Connection and creation is successfully created')\n",
        "    cursor.close()\n",
        "\n",
        "except sqlite3.Error as error:\n",
        "  print('Error in creating Database')\n",
        "\n",
        "finally:\n",
        "    if(conn):\n",
        "        conn.close()\n",
        "        print('Sqlite connection is closed')"
      ],
      "execution_count": 12,
      "outputs": [
        {
          "output_type": "stream",
          "text": [
            "Database Connection and creation is successfully created\n",
            "Sqlite connection is closed\n"
          ],
          "name": "stdout"
        }
      ]
    },
    {
      "cell_type": "code",
      "metadata": {
        "colab": {
          "base_uri": "https://localhost:8080/"
        },
        "id": "giMr6LYhGnQ9",
        "outputId": "b07f4d64-2906-4f5e-aded-0c3dde32b4e6"
      },
      "source": [
        "try:\n",
        "  conn =sqlite3.connect(\"/content/drive/MyDrive/dataProjects/database.db\")\n",
        "  createtable= '''CREATE TABLE Dept(deptid INTEGER PRIMARY KEY AUTOINCREMENT,\n",
        "  deptname TEXT(20) NOT NULL, deptstr INTEGER, Deptprograms TEXT(20));'''\n",
        "  cursor= conn.cursor()\n",
        "  cursor.execute(createtable)\n",
        "  conn.commit()\n",
        "  print('Database table are created ')\n",
        "  cursor.close()\n",
        "\n",
        "except sqlite3.Error as error:\n",
        "  print('Error in creating Database')\n",
        "finally:\n",
        "    if (conn):\n",
        "        conn.close()\n",
        "        print('Sqlite connection is closed')"
      ],
      "execution_count": 7,
      "outputs": [
        {
          "output_type": "stream",
          "text": [
            "Database table are created \n",
            "Sqlite connection is closed\n"
          ],
          "name": "stdout"
        }
      ]
    },
    {
      "cell_type": "code",
      "metadata": {
        "id": "utAO4qH1HCO3"
      },
      "source": [
        "def sql_connection():\n",
        "  try:\n",
        "      conn = sqlite3.connect('/content/drive/MyDrive/dataProjects/database/customer.db')\n",
        "      print('Database is created')\n",
        "  except:\n",
        "      print('Error in creating Database')\n",
        "  finally:\n",
        "      if(conn):\n",
        "          conn.close()\n",
        "          print('Sqlite connection is closed')\n",
        "        \n",
        "  sql_connection()"
      ],
      "execution_count": 16,
      "outputs": []
    },
    {
      "cell_type": "code",
      "metadata": {
        "colab": {
          "base_uri": "https://localhost:8080/",
          "height": 130
        },
        "id": "x1VRLk1cKPvQ",
        "outputId": "5d7ceccf-f8a2-446c-de48-b8cb908587db"
      },
      "source": [
        "def sql_connection():\n",
        "  try:\n",
        "      conn = sqlite3.connect('/content/drive/MyDrive/dataProjects/database/customer.db')\n",
        "      return conn\n",
        "  except:\n",
        "      print('Error in creating Database')\n",
        "\n",
        "\n",
        "def sql_table(conn:\n",
        "  cursor_obj= conn.cursor()\n",
        "  cursor_obj.execute(\"CREATE TABLE employees(id integer PRIMARY KEY, name text, salary real, department text,)\"\n",
        "  conn.commit()\n",
        "\n",
        "conn= sql_connection()\n",
        "sql_table(conn)\n"
      ],
      "execution_count": 18,
      "outputs": [
        {
          "output_type": "error",
          "ename": "SyntaxError",
          "evalue": "ignored",
          "traceback": [
            "\u001b[0;36m  File \u001b[0;32m\"<ipython-input-18-565bbf573313>\"\u001b[0;36m, line \u001b[0;32m11\u001b[0m\n\u001b[0;31m    cursor_obj.execute('CREATE TABLE')\u001b[0m\n\u001b[0m             ^\u001b[0m\n\u001b[0;31mSyntaxError\u001b[0m\u001b[0;31m:\u001b[0m invalid syntax\n"
          ]
        }
      ]
    },
    {
      "cell_type": "code",
      "metadata": {
        "id": "vJ_o3OHRLc_c"
      },
      "source": [
        ""
      ],
      "execution_count": null,
      "outputs": []
    }
  ]
}